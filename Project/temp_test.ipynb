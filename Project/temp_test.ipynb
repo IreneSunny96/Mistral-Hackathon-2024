{
 "cells": [
  {
   "cell_type": "code",
   "execution_count": 1,
   "metadata": {},
   "outputs": [
    {
     "name": "stderr",
     "output_type": "stream",
     "text": [
      "c:\\Users\\kingr\\anaconda3\\lib\\site-packages\\langchain_mistralai\\embeddings.py:105: UserWarning: Could not download mistral tokenizer from Huggingface for calculating batch sizes. Set a Huggingface token via the HF_TOKEN environment variable to download the real tokenizer. Falling back to a dummy tokenizer that uses `len()`.\n",
      "  warnings.warn(\n"
     ]
    }
   ],
   "source": [
    "from vector_pipeline import connect_db, table_exists,create_table_if_not_exists,load_csv_to_db\n",
    "from retriever import format_results, get_common_results, rerag\n",
    "from langchain.prompts import PromptTemplate\n",
    "from langchain_mistralai import ChatMistralAI\n",
    "from dotenv import load_dotenv\n",
    "import os\n"
   ]
  },
  {
   "cell_type": "code",
   "execution_count": 2,
   "metadata": {},
   "outputs": [],
   "source": [
    "api_key = os.getenv('MISTRAL_API')\n",
    "\n",
    "\n",
    "\n",
    "\n",
    "connection, cursor = connect_db()\n"
   ]
  },
  {
   "cell_type": "code",
   "execution_count": 3,
   "metadata": {},
   "outputs": [],
   "source": [
    "query = \"what are the scholarships for indian students?\""
   ]
  },
  {
   "cell_type": "code",
   "execution_count": 4,
   "metadata": {},
   "outputs": [],
   "source": [
    "results = get_common_results(query, 'edu', cursor=cursor, top_k=3)"
   ]
  },
  {
   "cell_type": "code",
   "execution_count": 5,
   "metadata": {},
   "outputs": [
    {
     "data": {
      "text/plain": [
       "[(130,\n",
       "  'https://ernest.essec.edu/support/solutions/articles/7000035125--full-time-student-i-m-from-india-is-there-a-scholarship-i-can-apply-for-',\n",
       "  'Financial Aid : scholarships, sponsorship / bourses, prise en charge',\n",
       "  'Financial Aid : scholarships, sponsorship / bourses, prise en charge\\nCharpak scholarship\\n\\n  * [https://www.inde.campusfrance.org/](https://www.inde.campusfrance.org/)\\n  * Deadline for the [Charpak](https://www.inde.campusfrance.org/charpak-master-s-scholarship) excellence scholarship grant : deadline 20 March 2024\\n\\n** _  \\n_**\\n\\n[https://www.inde.campusfrance.org/charpark-master-s-\\nprogram](https://www.inde.campusfrance.org/charpark-master-s-program)).\\n\\nLegrand scholarship\\n\\n[https://www.inde.campusfrance.org/ugam-legrand-scholarship-\\nprogram](https://www.inde.campusfrance.org/ugam-legrand-scholarship-program)\\n\\n  \\n\\n  \\n\\n  \\n\\n  \\n\\n',\n",
       "  'Mar, 30 Janv., 2024 à  4:55 H',\n",
       "  None),\n",
       " (196,\n",
       "  'https://ernest.essec.edu/support/solutions/articles/7000057069-exchange-students-from-india-at-essec-scholarship',\n",
       "  'Financial Aid : scholarships, sponsorship / bourses, prise en charge',\n",
       "  'Financial Aid : scholarships, sponsorship / bourses, prise en charge\\n**The Campus France grant called CHARPAK;_for indian students coming as\\nexchange students at ESSEC_. **\\n\\n  \\n\\nThe Charpak Exchange scholarship is open to students from all streams and  \\nfields of study enrolled in an Indian institution at Bachelor’s and  \\nMaster’s degree level. It is offered for one academic semester (4 months)  \\nbetween September and December and covers the following benefits: *monthly  \\nstipend of 700 euros, social security, student visa and Campus France fee  \\nwaiver, assistance in securing an affordable student accommodation and  \\nstatus of French government scholarship holder**.*\\n\\n  \\n\\nApplications for exchange in the Fall must be submitted between January and\\nApril.\\n\\nApplications for exchange in the Spring must be submitted between September\\nand November.  \\n  \\nPlease note:  \\n\\\\- It is mandatory that the applicant must be currently enrolled in an  \\nIndian institution of higher learning that has a tie-up with the French  \\ninstitution.  \\n\\\\- The students going for final semester projects or laboratory research in  \\na partner institute in France are *not* eligible to apply for the  \\nscholarship.  \\n  \\n  \\nFor more information, please visit [https://www.inde.campusfrance.org/charpak  \\n-exchange-scholarship-autumn-session-sept-dec-0](https://www.inde.campusfrance.org/charpak-exchange-scholarship-autumn-session-sept-dec-0) or\\n\\nwrite to :\\n[scholarship.france@ifindia.in](mailto:scholarship.france@ifindia.in)  \\n\\nWebsite ;\\n\\n  * <https://www.inde.campusfrance.org/charpak-scholarship>\\n  * Echange universitaire ; <http://www.inde.campusfrance.org/en/page/charpak-exchange-program-autumn-session>\\n    * C[harpak - Exchange Program (Autumn Session)](http://www.inde.campusfrance.org/en/page/charpak-exchange-program-autumn-session)\\n    * [Charpak - Exchange Program (Spring Session)](http://www.inde.campusfrance.org/en/PAGE/CHARPAK-EXCHANGE-PROGRAM-SPRING-SESSION-0)\\n\\n  \\n\\n  \\n\\n',\n",
       "  'Lun, 12 Juin, 2023 à  5:39 H',\n",
       "  None),\n",
       " (150,\n",
       "  'https://ernest.essec.edu/support/solutions/articles/7000031979--mobilite-%C3%A9change-universitaire-en-inde',\n",
       "  'Financial Aid : scholarships, sponsorship / bourses, prise en charge',\n",
       "  \"Financial Aid : scholarships, sponsorship / bourses, prise en charge\\n  \\n\\n**1\\\\. Les bourses d'études délivrées en France pour partir étudier à\\nl'étranger ; pour etudiants ESSEC**\\n\\n#\\n\\nSi vous partez dans le cadre d'un programme d'échange, nous vous suggérons de\\nsolliciter ;\\n\\n\\\\- le **Conseil départemental** OU,\\n\\n\\\\- le **Conseil****r** égional, OU\\n\\n\\\\- la Mairie\\n\\nde la résidence principale de vos parents.\\n\\nCes aides ne couvrent pas systématiquement toute la durée du voyage _ni toutes\\nles destinations_ mais peuvent s'avérer utiles.\\n\\n****\\n\\n**Attention** : certaines régions et/ou départements ne proposent pas ce type\\nde bourse de mobilité et/ou le montant diffère d'un département/d'une région à\\nl'autre.\\n\\nPour en savoir plus, contactez directement votre Conseil Départemental ou\\nConseil Régional.\\n\\n****\\n\\n**L'avantage de cette aide** : il est tout à fait possible de **cumuler\\nplusieurs bourses** lorsque vous partez à l'étranger. N'hésitez pas à vous\\nrenseigner !\\n\\n<https://www.etudionsaletranger.fr/etudier-a-l-etranger/les-bourses-\\nfrancaises-pour-faire-ses-etudes-a-l-etranger>\\n\\n  \\n\\n  \\n\\n**2\\\\. Informations utiles ;**\\n\\nDiverses ; <https://www.etudionsaletranger.fr/etudier-en-inde/etudier-en-inde-\\ncomment-etudier-en-inde>\\n\\n**Calcul du budget** ; <https://generationvoyage.fr/calcul-budget-voyage/>\\n\\n**Convertisseur** ;\\n[https://www.oanda.com/lang/fr/currency/converter/](https://www.oanda.com/lang/fr/currency/converter/)\\n\\n\",\n",
       "  'Ven, 9 Juin, 2023 à 11:06 H',\n",
       "  None)]"
      ]
     },
     "execution_count": 5,
     "metadata": {},
     "output_type": "execute_result"
    }
   ],
   "source": [
    "results"
   ]
  },
  {
   "cell_type": "code",
   "execution_count": 6,
   "metadata": {},
   "outputs": [],
   "source": [
    "results, f_ques, e_ques= rerag(query, 'edu', cursor=cursor, top_k=3)\n",
    "\n",
    "context = format_results(results)"
   ]
  },
  {
   "cell_type": "code",
   "execution_count": 7,
   "metadata": {},
   "outputs": [
    {
     "data": {
      "text/plain": [
       "\"Quelles sont les bourses d'études pour les étudiants indiens ?\""
      ]
     },
     "execution_count": 7,
     "metadata": {},
     "output_type": "execute_result"
    }
   ],
   "source": [
    "f_ques"
   ]
  },
  {
   "cell_type": "code",
   "execution_count": 8,
   "metadata": {},
   "outputs": [
    {
     "data": {
      "text/plain": [
       "'What are the scholarships for Indian students?'"
      ]
     },
     "execution_count": 8,
     "metadata": {},
     "output_type": "execute_result"
    }
   ],
   "source": [
    "e_ques"
   ]
  },
  {
   "cell_type": "code",
   "execution_count": 9,
   "metadata": {},
   "outputs": [
    {
     "data": {
      "text/plain": [
       "[(130,\n",
       "  'https://ernest.essec.edu/support/solutions/articles/7000035125--full-time-student-i-m-from-india-is-there-a-scholarship-i-can-apply-for-',\n",
       "  'Financial Aid : scholarships, sponsorship / bourses, prise en charge',\n",
       "  'Financial Aid : scholarships, sponsorship / bourses, prise en charge\\nCharpak scholarship\\n\\n  * [https://www.inde.campusfrance.org/](https://www.inde.campusfrance.org/)\\n  * Deadline for the [Charpak](https://www.inde.campusfrance.org/charpak-master-s-scholarship) excellence scholarship grant : deadline 20 March 2024\\n\\n** _  \\n_**\\n\\n[https://www.inde.campusfrance.org/charpark-master-s-\\nprogram](https://www.inde.campusfrance.org/charpark-master-s-program)).\\n\\nLegrand scholarship\\n\\n[https://www.inde.campusfrance.org/ugam-legrand-scholarship-\\nprogram](https://www.inde.campusfrance.org/ugam-legrand-scholarship-program)\\n\\n  \\n\\n  \\n\\n  \\n\\n  \\n\\n',\n",
       "  'Mar, 30 Janv., 2024 à  4:55 H',\n",
       "  None),\n",
       " (196,\n",
       "  'https://ernest.essec.edu/support/solutions/articles/7000057069-exchange-students-from-india-at-essec-scholarship',\n",
       "  'Financial Aid : scholarships, sponsorship / bourses, prise en charge',\n",
       "  'Financial Aid : scholarships, sponsorship / bourses, prise en charge\\n**The Campus France grant called CHARPAK;_for indian students coming as\\nexchange students at ESSEC_. **\\n\\n  \\n\\nThe Charpak Exchange scholarship is open to students from all streams and  \\nfields of study enrolled in an Indian institution at Bachelor’s and  \\nMaster’s degree level. It is offered for one academic semester (4 months)  \\nbetween September and December and covers the following benefits: *monthly  \\nstipend of 700 euros, social security, student visa and Campus France fee  \\nwaiver, assistance in securing an affordable student accommodation and  \\nstatus of French government scholarship holder**.*\\n\\n  \\n\\nApplications for exchange in the Fall must be submitted between January and\\nApril.\\n\\nApplications for exchange in the Spring must be submitted between September\\nand November.  \\n  \\nPlease note:  \\n\\\\- It is mandatory that the applicant must be currently enrolled in an  \\nIndian institution of higher learning that has a tie-up with the French  \\ninstitution.  \\n\\\\- The students going for final semester projects or laboratory research in  \\na partner institute in France are *not* eligible to apply for the  \\nscholarship.  \\n  \\n  \\nFor more information, please visit [https://www.inde.campusfrance.org/charpak  \\n-exchange-scholarship-autumn-session-sept-dec-0](https://www.inde.campusfrance.org/charpak-exchange-scholarship-autumn-session-sept-dec-0) or\\n\\nwrite to :\\n[scholarship.france@ifindia.in](mailto:scholarship.france@ifindia.in)  \\n\\nWebsite ;\\n\\n  * <https://www.inde.campusfrance.org/charpak-scholarship>\\n  * Echange universitaire ; <http://www.inde.campusfrance.org/en/page/charpak-exchange-program-autumn-session>\\n    * C[harpak - Exchange Program (Autumn Session)](http://www.inde.campusfrance.org/en/page/charpak-exchange-program-autumn-session)\\n    * [Charpak - Exchange Program (Spring Session)](http://www.inde.campusfrance.org/en/PAGE/CHARPAK-EXCHANGE-PROGRAM-SPRING-SESSION-0)\\n\\n  \\n\\n  \\n\\n',\n",
       "  'Lun, 12 Juin, 2023 à  5:39 H',\n",
       "  None),\n",
       " (203,\n",
       "  'https://ernest.essec.edu/support/solutions/articles/7000063541-isdb-scholarship',\n",
       "  'Financial Aid : scholarships, sponsorship / bourses, prise en charge',\n",
       "  'Financial Aid : scholarships, sponsorship / bourses, prise en charge\\nCandidates must ensure that they meet all the criteria listed in the attached\\ndocument.\\n\\n  \\n\\nApplications must be submitted on the platform Etudes en France in your\\ncountry of residence.\\n\\n  \\n\\n',\n",
       "  'Lun, 22 Févr., 2021 à  4:01 H',\n",
       "  '[EN_ISDB_FLYE...](https://ernest.essec.edu/helpdesk/attachments/7057889196)'),\n",
       " (150,\n",
       "  'https://ernest.essec.edu/support/solutions/articles/7000031979--mobilite-%C3%A9change-universitaire-en-inde',\n",
       "  'Financial Aid : scholarships, sponsorship / bourses, prise en charge',\n",
       "  \"Financial Aid : scholarships, sponsorship / bourses, prise en charge\\n  \\n\\n**1\\\\. Les bourses d'études délivrées en France pour partir étudier à\\nl'étranger ; pour etudiants ESSEC**\\n\\n#\\n\\nSi vous partez dans le cadre d'un programme d'échange, nous vous suggérons de\\nsolliciter ;\\n\\n\\\\- le **Conseil départemental** OU,\\n\\n\\\\- le **Conseil****r** égional, OU\\n\\n\\\\- la Mairie\\n\\nde la résidence principale de vos parents.\\n\\nCes aides ne couvrent pas systématiquement toute la durée du voyage _ni toutes\\nles destinations_ mais peuvent s'avérer utiles.\\n\\n****\\n\\n**Attention** : certaines régions et/ou départements ne proposent pas ce type\\nde bourse de mobilité et/ou le montant diffère d'un département/d'une région à\\nl'autre.\\n\\nPour en savoir plus, contactez directement votre Conseil Départemental ou\\nConseil Régional.\\n\\n****\\n\\n**L'avantage de cette aide** : il est tout à fait possible de **cumuler\\nplusieurs bourses** lorsque vous partez à l'étranger. N'hésitez pas à vous\\nrenseigner !\\n\\n<https://www.etudionsaletranger.fr/etudier-a-l-etranger/les-bourses-\\nfrancaises-pour-faire-ses-etudes-a-l-etranger>\\n\\n  \\n\\n  \\n\\n**2\\\\. Informations utiles ;**\\n\\nDiverses ; <https://www.etudionsaletranger.fr/etudier-en-inde/etudier-en-inde-\\ncomment-etudier-en-inde>\\n\\n**Calcul du budget** ; <https://generationvoyage.fr/calcul-budget-voyage/>\\n\\n**Convertisseur** ;\\n[https://www.oanda.com/lang/fr/currency/converter/](https://www.oanda.com/lang/fr/currency/converter/)\\n\\n\",\n",
       "  'Ven, 9 Juin, 2023 à 11:06 H',\n",
       "  None),\n",
       " (177,\n",
       "  'https://ernest.essec.edu/support/solutions/articles/7000048999-bourse-campus-france-pour-%C3%A9tudiants-d-ile-maurice-',\n",
       "  'Financial Aid : scholarships, sponsorship / bourses, prise en charge',\n",
       "  \"Financial Aid : scholarships, sponsorship / bourses, prise en charge\\n  \\n\\nChaque année, le Gouvernent français offre des possibilités de bourses aux\\nétudiants mauriciens. Ces bourses s'adressent aux étudiants qui doivent\\nintégrer un cycle en Ecole d'Ingénieur, en Master ou en Doctorat à la\\nprochaine rentrée universitaire.\\n\\n  \\n\\nLes étudiants qui souhaitent candidater à ces bourses, doivent constituer un\\ndossier en téléchargeant les documents joints et les lire attentivement. Le\\ndossier et les pièces à joindre devront être déposés au Ministère de\\nl'éducation, MITD Phoenix. Le profil académique est étudié lors de l'exercice\\nde sélection des boursiers, il faut donc présenter tous les documents\\ndemandés.\\n\\nIl est très important de compléter les modalités d'inscription au sein des\\nuniversités choisis en parallèle.\\n\\nLes bourses seront octroyées à des étudiants s'inscrivant dans des filières\\nprécises, à savoir, Sciences de l'ingénieur , Sciences Dures,\\nEnvironnement/Eau/Gestion des déchets et Art.\\n\\nL'équipe de Campus France Maurice se tient à votre disposition pour de plus\\namples renseignements.\\n\\n  \\n\\n<https://www.maurice.campusfrance.org/bourses-d-etudes>\\n\\n\",\n",
       "  'Ven, 9 Juin, 2023 à 12:09 H',\n",
       "  '[Dossier de c...](https://ernest.essec.edu/helpdesk/attachments/7114806389)'),\n",
       " (147,\n",
       "  'https://ernest.essec.edu/support/solutions/articles/7000012128--mobilite-%C3%A9change-universitaire-au-canada-quelles-sont-les-aides-exchange-in-canada-any-financ',\n",
       "  'Financial Aid : scholarships, sponsorship / bourses, prise en charge',\n",
       "  \"Financial Aid : scholarships, sponsorship / bourses, prise en charge\\n# **Les bourses d’études OU stages pour étudier au Canada :**\\n\\n  \\n\\n**_Bourses départementales et régionales_**\\n\\nSi vous partez dans le cadre d'un programme d'échange, nous vous suggérons de\\nsolliciter le **Conseil Général** **du départemental** OU **de la Région** de\\nla résidence principale de vos parents. Ces aides ne couvrent pas\\nsystématiquement toute la durée du voyage mais peuvent s'avérer utiles.\\n\\n**Attention** : certaines régions et départements ne proposent pas ce type de\\nbourse de mobilité et le montant diffère d'un département/d'une région à\\nl'autre.\\n\\nPour en savoir plus, contactez directement votre Conseil Départemental ou\\nConseil Régional.\\n\\n**L'avantage de cette aide** : il est tout à fait possible de **cumuler\\nplusieurs bourses** lorsque vous partez à l'étranger. N'hésitez pas à vous\\nrenseigner !\\n\\n  \\n\\n  \\n\\n  \\n\\n**Étudier au Canada, les infos, les démarches, les conseils :**\\n\\n**<https://www.etudionsaletranger.fr/etudier-au-canada/etudier-au-canada-\\ncomment-partir-etudier-au-canada>**\\n\\n  \\n\\n[**Le logement étudiant au Canada\\n:**](http://www.etudionsaletranger.fr/etudier-au-canada/logement-etudiant-au-\\ncanada-les-conseils)\\n\\nUne fois que vous connaîtrez votre université de destination et aurez obtenu\\nvotre visa, vous allez très certainement **rechercher un logement étudiant.**\\nQue cela soit en résidence universitaire ou en logement privé, vous aurez\\nbesoin de quelques conseils !\\n\\n<https://www.etudionsaletranger.fr/etudier-au-canada/logement-etudiant-au-\\ncanada-les-conseils>\\n\\n  \\n\\n**Informations complémentaires utiles pour vos études au Canada :**\\n\\n  * **Calcul du budget :**<http://generationvoyage.fr/calcul-budget-voyage/>\\n  * **Convertisseur :**[http://www.xe.com/fr/currencyconverter/convert/?Amount=4320&From=USD&To=EUR  \\n](http://www.xe.com/fr/currencyconverter/convert/?Amount=4320&From=USD&To=EUR)\\n\\n  \\n\\n**Contacts utiles :**\\n\\n[https://www.essecalumni.com/group/canada-\\nmontreal](https://www.essecalumni.com/group/canada-montreal/163)\\n\\n[https://www.essecalumni.com/group/canada-\\ntoronto/165](https://www.essecalumni.com/group/canada-toronto)\\n\\n  \\n\\n  \\n\\n\",\n",
       "  'Ven, 9 Juin, 2023 à 11:05 H',\n",
       "  None)]"
      ]
     },
     "execution_count": 9,
     "metadata": {},
     "output_type": "execute_result"
    }
   ],
   "source": [
    "results"
   ]
  },
  {
   "cell_type": "code",
   "execution_count": 10,
   "metadata": {},
   "outputs": [],
   "source": [
    "from prompts import system_prompt_template, custom_answer_prompt_template"
   ]
  },
  {
   "cell_type": "code",
   "execution_count": 11,
   "metadata": {},
   "outputs": [],
   "source": [
    "answer_prompt = PromptTemplate(template=custom_answer_prompt_template, input_variables=['context', 'query'])\n",
    "\n",
    "formatted_prompt = answer_prompt.format(query=query, context=context)\n",
    "\n",
    "llm = ChatMistralAI(model_name='mistral-large-latest',api_key='jEoYKB36Y0ClSdn2n1cuLziCuyqntQzf', streaming= True, system = system_prompt_template)\n",
    "\n",
    "\n",
    "\n"
   ]
  },
  {
   "cell_type": "code",
   "execution_count": 13,
   "metadata": {},
   "outputs": [],
   "source": [
    "answer = llm.invoke(formatted_prompt)"
   ]
  },
  {
   "cell_type": "code",
   "execution_count": 14,
   "metadata": {},
   "outputs": [
    {
     "name": "stdout",
     "output_type": "stream",
     "text": [
      "There are a few scholarships available for Indian students as per the provided documents:\n",
      "\n",
      "1. Charpak Scholarship: This scholarship is for Indian students who wish to pursue their Master's degree in France. The deadline for the Charpak excellence scholarship grant is 20th March 2024. For more information, visit [Charpak Master's Scholarship](https://www.inde.campusfrance.org/charpak-master-s-scholarship) or write to scholarship.france@ifindia.in.\n",
      "\n",
      "2. Charpak Exchange Scholarship: This scholarship is open to students from all streams and fields of study enrolled in an Indian institution at Bachelor’s and Master’s degree level. It is offered for one academic semester (4 months) between September and December. Applications for exchange in the Fall must be submitted between January and April, and for the Spring between September and November. For more information, visit [Charpak Exchange Scholarship](https://www.inde.campusfrance.org/charpak-exchange-scholarship-autumn-session-sept-dec-0) or write to scholarship.france@ifindia.in.\n",
      "\n",
      "Sources:\n",
      "1. [Financial Aid : scholarships, sponsorship / bourses, prise en charge](https://ernest.essec.edu/support/solutions/articles/7000035125--full-time-student-i-m-from-india-is-there-a-scholarship-i-can-apply-for-)\n",
      "2. [Exchange students from India at ESSEC - Scholarship](https://ernest.essec.edu/support/solutions/articles/7000057069-exchange-students-from-india-at-essec-scholarship)\n",
      "\n",
      "Attachments: None\n"
     ]
    }
   ],
   "source": [
    "print(answer.content)"
   ]
  },
  {
   "cell_type": "code",
   "execution_count": 21,
   "metadata": {},
   "outputs": [
    {
     "ename": "ValueError",
     "evalue": "`run` not supported when there is not exactly one output key. Got [].",
     "output_type": "error",
     "traceback": [
      "\u001b[1;31m---------------------------------------------------------------------------\u001b[0m",
      "\u001b[1;31mValueError\u001b[0m                                Traceback (most recent call last)",
      "Input \u001b[1;32mIn [21]\u001b[0m, in \u001b[0;36m<cell line: 41>\u001b[1;34m()\u001b[0m\n\u001b[0;32m     38\u001b[0m agent_executor \u001b[38;5;241m=\u001b[39m AgentExecutor\u001b[38;5;241m.\u001b[39mfrom_agent_and_tools(agent\u001b[38;5;241m=\u001b[39magent, tools\u001b[38;5;241m=\u001b[39mtools, verbose\u001b[38;5;241m=\u001b[39m\u001b[38;5;28;01mTrue\u001b[39;00m)\n\u001b[0;32m     40\u001b[0m \u001b[38;5;66;03m# Use the agent\u001b[39;00m\n\u001b[1;32m---> 41\u001b[0m response \u001b[38;5;241m=\u001b[39m \u001b[43magent_executor\u001b[49m\u001b[38;5;241;43m.\u001b[39;49m\u001b[43mrun\u001b[49m\u001b[43m(\u001b[49m\u001b[38;5;124;43m\"\u001b[39;49m\u001b[38;5;124;43mWhat is the capital of France?\u001b[39;49m\u001b[38;5;124;43m\"\u001b[39;49m\u001b[43m)\u001b[49m\n\u001b[0;32m     42\u001b[0m \u001b[38;5;28mprint\u001b[39m(response[\u001b[38;5;124m\"\u001b[39m\u001b[38;5;124mresult\u001b[39m\u001b[38;5;124m\"\u001b[39m])\n",
      "File \u001b[1;32mc:\\Users\\kingr\\anaconda3\\lib\\site-packages\\langchain_core\\_api\\deprecation.py:148\u001b[0m, in \u001b[0;36mdeprecated.<locals>.deprecate.<locals>.warning_emitting_wrapper\u001b[1;34m(*args, **kwargs)\u001b[0m\n\u001b[0;32m    146\u001b[0m     warned \u001b[38;5;241m=\u001b[39m \u001b[38;5;28;01mTrue\u001b[39;00m\n\u001b[0;32m    147\u001b[0m     emit_warning()\n\u001b[1;32m--> 148\u001b[0m \u001b[38;5;28;01mreturn\u001b[39;00m wrapped(\u001b[38;5;241m*\u001b[39margs, \u001b[38;5;241m*\u001b[39m\u001b[38;5;241m*\u001b[39mkwargs)\n",
      "File \u001b[1;32mc:\\Users\\kingr\\anaconda3\\lib\\site-packages\\langchain\\chains\\base.py:564\u001b[0m, in \u001b[0;36mChain.run\u001b[1;34m(self, callbacks, tags, metadata, *args, **kwargs)\u001b[0m\n\u001b[0;32m    527\u001b[0m \u001b[38;5;250m\u001b[39m\u001b[38;5;124;03m\"\"\"Convenience method for executing chain.\u001b[39;00m\n\u001b[0;32m    528\u001b[0m \n\u001b[0;32m    529\u001b[0m \u001b[38;5;124;03mThe main difference between this method and `Chain.__call__` is that this\u001b[39;00m\n\u001b[1;32m   (...)\u001b[0m\n\u001b[0;32m    561\u001b[0m \u001b[38;5;124;03m        # -> \"The temperature in Boise is...\"\u001b[39;00m\n\u001b[0;32m    562\u001b[0m \u001b[38;5;124;03m\"\"\"\u001b[39;00m\n\u001b[0;32m    563\u001b[0m \u001b[38;5;66;03m# Run at start to make sure this is possible/defined\u001b[39;00m\n\u001b[1;32m--> 564\u001b[0m _output_key \u001b[38;5;241m=\u001b[39m \u001b[38;5;28;43mself\u001b[39;49m\u001b[38;5;241;43m.\u001b[39;49m\u001b[43m_run_output_key\u001b[49m\n\u001b[0;32m    566\u001b[0m \u001b[38;5;28;01mif\u001b[39;00m args \u001b[38;5;129;01mand\u001b[39;00m \u001b[38;5;129;01mnot\u001b[39;00m kwargs:\n\u001b[0;32m    567\u001b[0m     \u001b[38;5;28;01mif\u001b[39;00m \u001b[38;5;28mlen\u001b[39m(args) \u001b[38;5;241m!=\u001b[39m \u001b[38;5;241m1\u001b[39m:\n",
      "File \u001b[1;32mc:\\Users\\kingr\\anaconda3\\lib\\site-packages\\langchain\\chains\\base.py:512\u001b[0m, in \u001b[0;36mChain._run_output_key\u001b[1;34m(self)\u001b[0m\n\u001b[0;32m    509\u001b[0m \u001b[38;5;129m@property\u001b[39m\n\u001b[0;32m    510\u001b[0m \u001b[38;5;28;01mdef\u001b[39;00m \u001b[38;5;21m_run_output_key\u001b[39m(\u001b[38;5;28mself\u001b[39m) \u001b[38;5;241m-\u001b[39m\u001b[38;5;241m>\u001b[39m \u001b[38;5;28mstr\u001b[39m:\n\u001b[0;32m    511\u001b[0m     \u001b[38;5;28;01mif\u001b[39;00m \u001b[38;5;28mlen\u001b[39m(\u001b[38;5;28mself\u001b[39m\u001b[38;5;241m.\u001b[39moutput_keys) \u001b[38;5;241m!=\u001b[39m \u001b[38;5;241m1\u001b[39m:\n\u001b[1;32m--> 512\u001b[0m         \u001b[38;5;28;01mraise\u001b[39;00m \u001b[38;5;167;01mValueError\u001b[39;00m(\n\u001b[0;32m    513\u001b[0m             \u001b[38;5;124mf\u001b[39m\u001b[38;5;124m\"\u001b[39m\u001b[38;5;124m`run` not supported when there is not exactly \u001b[39m\u001b[38;5;124m\"\u001b[39m\n\u001b[0;32m    514\u001b[0m             \u001b[38;5;124mf\u001b[39m\u001b[38;5;124m\"\u001b[39m\u001b[38;5;124mone output key. Got \u001b[39m\u001b[38;5;132;01m{\u001b[39;00m\u001b[38;5;28mself\u001b[39m\u001b[38;5;241m.\u001b[39moutput_keys\u001b[38;5;132;01m}\u001b[39;00m\u001b[38;5;124m.\u001b[39m\u001b[38;5;124m\"\u001b[39m\n\u001b[0;32m    515\u001b[0m         )\n\u001b[0;32m    516\u001b[0m     \u001b[38;5;28;01mreturn\u001b[39;00m \u001b[38;5;28mself\u001b[39m\u001b[38;5;241m.\u001b[39moutput_keys[\u001b[38;5;241m0\u001b[39m]\n",
      "\u001b[1;31mValueError\u001b[0m: `run` not supported when there is not exactly one output key. Got []."
     ]
    }
   ],
   "source": [
    "from langchain.agents import AgentExecutor, initialize_agent\n",
    "from langchain.tools import BaseTool\n",
    "import re\n",
    "\n",
    "\n",
    "# Define the function to raise a ticket\n",
    "def raise_ticket(query):\n",
    "    # Logic to raise a ticket with the user's query\n",
    "    ticket_id = 1234\n",
    "    return f\"Ticket raised successfully with ID: {ticket_id}\"\n",
    "\n",
    "# Create a custom tool\n",
    "class RaiseTicketTool(BaseTool):\n",
    "    name = \"raise_ticket_tool\"\n",
    "    description = \"Prompts the user to raise a ticket if the LLM cannot answer the query.\"\n",
    "\n",
    "    def _run(self, query: str) -> str:\n",
    "        # Prompt the user\n",
    "        prompt = f\"I'm sorry, I couldn't find a good answer to your query: '{query}'. Do you want to raise a ticket? (Yes/No)\"\n",
    "        user_response = input(prompt).lower()\n",
    "\n",
    "        # Check if the user wants to raise a ticket\n",
    "        if re.search(r'yes', user_response):\n",
    "            return raise_ticket(query)\n",
    "        else:\n",
    "            return \"Okay, no ticket will be raised.\"\n",
    "\n",
    "    def _arun(self, query: str) -> str:\n",
    "        raise NotImplementedError(\"This tool does not support async\")\n",
    "\n",
    "\n",
    "\n",
    "# Initialize the agent with the custom tool and output key\n",
    "tools = [RaiseTicketTool()]\n",
    "agent = initialize_agent(tools, llm, agent=\"zero-shot-react-description\", verbose=True, output_keys=[\"result\"])\n",
    "\n",
    "# Create the AgentExecutor\n",
    "agent_executor = AgentExecutor.from_agent_and_tools(agent=agent, tools=tools, verbose=True)\n",
    "\n",
    "# Use the agent\n",
    "response = agent_executor.run(\"What is the capital of France?\")\n",
    "print(response[\"result\"])"
   ]
  },
  {
   "cell_type": "code",
   "execution_count": null,
   "metadata": {},
   "outputs": [],
   "source": []
  }
 ],
 "metadata": {
  "kernelspec": {
   "display_name": "base",
   "language": "python",
   "name": "python3"
  },
  "language_info": {
   "codemirror_mode": {
    "name": "ipython",
    "version": 3
   },
   "file_extension": ".py",
   "mimetype": "text/x-python",
   "name": "python",
   "nbconvert_exporter": "python",
   "pygments_lexer": "ipython3",
   "version": "3.9.12"
  }
 },
 "nbformat": 4,
 "nbformat_minor": 2
}
